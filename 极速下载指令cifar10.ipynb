{
 "cells": [
  {
   "cell_type": "code",
   "execution_count": null,
   "id": "3be9a5d6-2ca1-4263-8cc5-e7bb9f23b406",
   "metadata": {},
   "outputs": [],
   "source": [
    "# 下载 CIFAR-10 数据集（国内 CDN 镜像）\n",
    "wget https://dataset.bj.bcebos.com/cifar/cifar-10-python.tar.gz\n",
    "\n",
    "# 创建数据目录并解压\n",
    "mkdir -p ./data\n",
    "tar -xzf cifar-10-python.tar.gz -C ./data\n",
    "\n",
    "极速下载指令"
   ]
  }
 ],
 "metadata": {
  "kernelspec": {
   "display_name": "",
   "name": ""
  },
  "language_info": {
   "name": ""
  }
 },
 "nbformat": 4,
 "nbformat_minor": 5
}
